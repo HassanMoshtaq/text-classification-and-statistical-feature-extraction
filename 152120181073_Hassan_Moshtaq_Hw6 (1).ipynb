{
  "nbformat": 4,
  "nbformat_minor": 0,
  "metadata": {
    "colab": {
      "provenance": []
    },
    "kernelspec": {
      "name": "python3",
      "display_name": "Python 3"
    },
    "language_info": {
      "name": "python"
    }
  },
  "cells": [
    {
      "cell_type": "code",
      "execution_count": null,
      "metadata": {
        "colab": {
          "base_uri": "https://localhost:8080/"
        },
        "id": "luIu0eq1BUFJ",
        "outputId": "18702d1d-1245-4702-ba51-3fece4ab0d5f"
      },
      "outputs": [
        {
          "output_type": "stream",
          "name": "stdout",
          "text": [
            "Top Features: ['discount', 'free']\n",
            "Training Data Matrix:\n",
            " [[0.31622777 0.9486833 ]\n",
            " [0.31622777 0.9486833 ]\n",
            " [0.         0.        ]\n",
            " [0.         0.        ]\n",
            " [0.         0.        ]]\n",
            "Test Data TF*IDF Vectors:\n",
            " [[0. 0.]\n",
            " [0. 1.]]\n",
            "Predicted Class Labels for Test Data: ['N' 'S']\n"
          ]
        }
      ],
      "source": [
        "import numpy as np\n",
        "import pandas as pd\n",
        "from sklearn.feature_extraction.text import TfidfVectorizer\n",
        "from sklearn.neighbors import KNeighborsClassifier\n",
        "\n",
        "# Here i trained the  data\n",
        "documents = [\n",
        "    (\"free free free buy discount combo pleasure\", \"S\"),\n",
        "    (\"free free free discount pleasure smile smile smile\", \"S\"),\n",
        "    (\"cat mouse\", \"N\"),\n",
        "    (\"cat cat dog dog dog dog\", \"N\"),\n",
        "    (\"mouse\", \"N\")\n",
        "]\n",
        "\n",
        "# The datas which are used for Test\n",
        "test_documents = [\n",
        "    \"dog cat mouse cat\",\n",
        "    \"Free free smile\"\n",
        "]\n",
        "\n",
        "# Here we are Computing MI Scores\n",
        "def calculate_mi(documents):\n",
        "    word_counts = {}\n",
        "    for doc, label in documents:\n",
        "        for word in set(doc.split()):\n",
        "            if word not in word_counts:\n",
        "                word_counts[word] = {label: 1}\n",
        "            else:\n",
        "                word_counts[word][label] = word_counts[word].get(label, 0) + 1\n",
        "\n",
        "    total_docs = len(documents)\n",
        "    mi_scores = {}\n",
        "    for word, counts in word_counts.items():\n",
        "        p_w = sum(counts.values()) / total_docs\n",
        "        for label, count in counts.items():\n",
        "            p_w_c = count / total_docs\n",
        "            p_c = len([doc for doc, l in documents if l == label]) / total_docs\n",
        "            mi = p_w_c * np.log2(p_w_c / (p_w * p_c))\n",
        "            mi_scores[word] = mi_scores.get(word, 0) + mi\n",
        "\n",
        "    return sorted(mi_scores.items(), key=lambda x: x[1], reverse=True)\n",
        "\n",
        "mi_scores = calculate_mi(documents)\n",
        "top_features = [word for word, score in mi_scores[:2]]\n",
        "print(\"Top Features:\", top_features)\n",
        "\n",
        "# Here i Computed TF*IDF Scores\n",
        "tfidf_vectorizer = TfidfVectorizer(vocabulary=top_features)\n",
        "corpus = [doc for doc, label in documents]\n",
        "tfidf_matrix = tfidf_vectorizer.fit_transform(corpus)\n",
        "\n",
        "# Here we are  Formulating  Training Data Matrix\n",
        "train_data_matrix = tfidf_matrix.toarray()\n",
        "train_labels = [label for doc, label in documents]\n",
        "\n",
        "print(\"Training Data Matrix:\\n\", train_data_matrix)\n",
        "\n",
        "# Here we are  Calculating TF*IDF for Test Data\n",
        "test_tfidf_matrix = tfidf_vectorizer.transform(test_documents).toarray()\n",
        "print(\"Test Data TF*IDF Vectors:\\n\", test_tfidf_matrix)\n",
        "\n",
        "# Here we Predict Class Labels Using KNN\n",
        "knn = KNeighborsClassifier(n_neighbors=1)\n",
        "knn.fit(train_data_matrix, train_labels)\n",
        "\n",
        "# Here we made some  Predictions for test data\n",
        "predictions = knn.predict(test_tfidf_matrix)\n",
        "print(\"Predicted Class Labels for Test Data:\", predictions)\n"
      ]
    }
  ]
}